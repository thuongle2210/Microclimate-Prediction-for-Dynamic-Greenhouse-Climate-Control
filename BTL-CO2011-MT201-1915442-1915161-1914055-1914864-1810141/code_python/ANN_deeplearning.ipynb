{
  "nbformat": 4,
  "nbformat_minor": 0,
  "metadata": {
    "colab": {
      "name": "stiff_ODE_system (2).ipynb",
      "provenance": [],
      "collapsed_sections": []
    },
    "kernelspec": {
      "display_name": "Python 3",
      "language": "python",
      "name": "python3"
    },
    "language_info": {
      "codemirror_mode": {
        "name": "ipython",
        "version": 3
      },
      "file_extension": ".py",
      "mimetype": "text/x-python",
      "name": "python",
      "nbconvert_exporter": "python",
      "pygments_lexer": "ipython3",
      "version": "3.6.2"
    },
    "toc": {
      "nav_menu": {},
      "number_sections": true,
      "sideBar": true,
      "skip_h1_title": false,
      "toc_cell": false,
      "toc_position": {},
      "toc_section_display": "block",
      "toc_window_display": false
    }
  },
  "cells": [
    {
      "cell_type": "code",
      "metadata": {
        "id": "MKev7hpKyWCm"
      },
      "source": [
        "%matplotlib inline\n",
        "from matplotlib import pyplot as plt\n",
        "import seaborn as sns; sns.set()\n",
        "\n",
        "import autograd.numpy as np\n",
        "from autograd import grad \n",
        "\n",
        "# element-wise gradient is a standard-alone function in v1.2\n",
        "from autograd import elementwise_grad as egrad\n",
        "\n",
        "import autograd.numpy.random as npr\n",
        "from autograd.misc.flatten import flatten_func, flatten\n",
        "\n",
        "from scipy.optimize import minimize\n",
        "import numpy\n",
        "import math"
      ],
      "execution_count": 27,
      "outputs": []
    },
    {
      "cell_type": "code",
      "metadata": {
        "collapsed": true,
        "id": "utf5IIN0yWCp"
      },
      "source": [
        "\n",
        "# figure settings\n",
        "plt.rcParams[\"figure.figsize\"] = (6,4)\n",
        "plt.rcParams['legend.fontsize'] = 13\n",
        "\n",
        "plt.rcParams['xtick.labelsize'] = 13\n",
        "plt.rcParams['ytick.labelsize'] = 13\n",
        "\n",
        "plt.rcParams['axes.titlesize'] = 20\n",
        "plt.rcParams['axes.labelsize'] = 13"
      ],
      "execution_count": 28,
      "outputs": []
    },
    {
      "cell_type": "code",
      "metadata": {
        "id": "Jkgmt74B_82d"
      },
      "source": [
        "t0, tmax = [0, 2]\n",
        "\n",
        "#y0_list = [1, 0] # rapid increase and then decay. Can't solve by NN!\n",
        "y0_list = [2, -1] # simply decay. Can be solved by NN easily"
      ],
      "execution_count": 29,
      "outputs": []
    },
    {
      "cell_type": "code",
      "metadata": {
        "collapsed": true,
        "id": "tptdfTzWyWCq"
      },
      "source": [
        "def f(t, y):\n",
        "    '''\n",
        "        dy/dt = f(t, y)\n",
        "        This is f() function on the right\n",
        "    '''    \n",
        "    \n",
        "    return [998*y[0] + 1998*y[1], -999*y[0] - 1999*y[1]]"
      ],
      "execution_count": 30,
      "outputs": []
    },
    {
      "cell_type": "markdown",
      "metadata": {
        "id": "ErVDVZKbyWCv"
      },
      "source": [
        "# Build NN"
      ]
    },
    {
      "cell_type": "code",
      "metadata": {
        "collapsed": true,
        "id": "xHX6-15DyWCv"
      },
      "source": [
        "t = np.linspace(0, 5.0,10).reshape(-1,1) # training points"
      ],
      "execution_count": 31,
      "outputs": []
    },
    {
      "cell_type": "code",
      "metadata": {
        "colab": {
          "base_uri": "https://localhost:8080/"
        },
        "id": "U2I60AckyWCv",
        "outputId": "0217f481-fc9b-4e3a-9cfe-9ea3bc82654d"
      },
      "source": [
        "def init_weights(n_in=1, n_hidden=10, n_out=1):\n",
        "    W1 = npr.randn(n_in, n_hidden)\n",
        "    b1 = np.zeros(n_hidden)\n",
        "    W2 = npr.randn(n_hidden, n_out)\n",
        "    b2 = np.zeros(n_out)\n",
        "    params = [W1, b1, W2, b2]\n",
        "    return params\n",
        "\n",
        "params1 = init_weights()\n",
        "params2 = init_weights()\n",
        "params_list = [params1, params2]\n",
        "print([ p.shape for p in params1 ])"
      ],
      "execution_count": 32,
      "outputs": [
        {
          "output_type": "stream",
          "text": [
            "[(1, 10), (10,), (10, 1), (1,)]\n"
          ],
          "name": "stdout"
        }
      ]
    },
    {
      "cell_type": "code",
      "metadata": {
        "collapsed": true,
        "id": "Kj8Rclk_yWCw"
      },
      "source": [
        "def predict(params, t, y0, act=np.tanh):\n",
        "    W1, b1, W2, b2 = params\n",
        "    \n",
        "    a = act(np.dot(t, W1) + b1)\n",
        "    y = np.dot(a, W2) + b2\n",
        "    \n",
        "    phi = y0 + t*y\n",
        "    \n",
        "    return phi"
      ],
      "execution_count": 33,
      "outputs": []
    },
    {
      "cell_type": "code",
      "metadata": {
        "colab": {
          "base_uri": "https://localhost:8080/"
        },
        "id": "y7lJuZW-yWCw",
        "outputId": "60fd3172-1822-40c9-f8cb-7a88f93708fb"
      },
      "source": [
        "predict(params1, t, y0_list[1]).shape # vectorized over t"
      ],
      "execution_count": 34,
      "outputs": [
        {
          "output_type": "execute_result",
          "data": {
            "text/plain": [
              "(10, 1)"
            ]
          },
          "metadata": {
            "tags": []
          },
          "execution_count": 34
        }
      ]
    },
    {
      "cell_type": "code",
      "metadata": {
        "collapsed": true,
        "id": "lFYn-Q8hyWCw"
      },
      "source": [
        "predict_dt = egrad(predict, argnum=1) # element-wise grad w.r.t t, "
      ],
      "execution_count": 35,
      "outputs": []
    },
    {
      "cell_type": "code",
      "metadata": {
        "colab": {
          "base_uri": "https://localhost:8080/"
        },
        "id": "1a3o06lvyWCw",
        "outputId": "4a5c9c87-3718-4f61-a071-ae01ddf7d642"
      },
      "source": [
        "predict_dt(params1, t, y0_list[1]).shape"
      ],
      "execution_count": 36,
      "outputs": [
        {
          "output_type": "execute_result",
          "data": {
            "text/plain": [
              "(10, 1)"
            ]
          },
          "metadata": {
            "tags": []
          },
          "execution_count": 36
        }
      ]
    },
    {
      "cell_type": "code",
      "metadata": {
        "colab": {
          "base_uri": "https://localhost:8080/",
          "height": 288
        },
        "id": "9FqKfhfmyWCx",
        "outputId": "aa03a36d-90ce-4d2b-9afd-3a5ebb2bc71a"
      },
      "source": [
        "plt.plot(predict(params1, t, y0_list[0]))\n",
        "plt.plot(predict_dt(params1, t, y0_list[0]))\n",
        "plt.plot(predict(params2, t, y0_list[1]))\n",
        "plt.plot(predict_dt(params2, t, y0_list[1]))"
      ],
      "execution_count": 37,
      "outputs": [
        {
          "output_type": "execute_result",
          "data": {
            "text/plain": [
              "[<matplotlib.lines.Line2D at 0x7f79c4381eb8>]"
            ]
          },
          "metadata": {
            "tags": []
          },
          "execution_count": 37
        },
        {
          "output_type": "display_data",
          "data": {
            "image/png": "[encoded data removed]",
            "text/plain": [
              "<Figure size 432x288 with 1 Axes>"
            ]
          },
          "metadata": {
            "tags": []
          }
        }
      ]
    },
    {
      "cell_type": "code",
      "metadata": {
        "collapsed": true,
        "id": "15j9G7dtyWCx"
      },
      "source": [
        "def loss_func(params_list, t, y0_list):\n",
        "    \n",
        "    \n",
        "    y_pred_list = []\n",
        "    dydt_pred_list = []\n",
        "    for params, y0 in zip(params_list, y0_list):\n",
        "        y_pred =  predict(params, t, y0)\n",
        "        dydt_pred = predict_dt(params, t, y0)\n",
        "        \n",
        "        y_pred_list.append(y_pred)\n",
        "        dydt_pred_list.append(dydt_pred)\n",
        "        \n",
        "    f_pred_list = f(t, y_pred_list)\n",
        "    \n",
        "    loss_total = 0.0\n",
        "    for f_pred, dydt_pred in zip(f_pred_list, dydt_pred_list):\n",
        "        loss = np.sum((dydt_pred-f_pred)**2)\n",
        "        loss_total += loss\n",
        "    #print(\"y_pred[0]\",predict(params_list[0], t, y0_list[0]))\n",
        "    return loss_total/(2*len(f_pred))"
      ],
      "execution_count": 38,
      "outputs": []
    },
    {
      "cell_type": "code",
      "metadata": {
        "colab": {
          "base_uri": "https://localhost:8080/"
        },
        "id": "Xe8h7FuxyWCy",
        "outputId": "05a6b7f5-97ab-4fc4-d0b4-42cbaa5b51fd"
      },
      "source": [
        "loss_func(params_list, t, y0_list)"
      ],
      "execution_count": 39,
      "outputs": [
        {
          "output_type": "execute_result",
          "data": {
            "text/plain": [
              "354154430.11735696"
            ]
          },
          "metadata": {
            "tags": []
          },
          "execution_count": 39
        }
      ]
    },
    {
      "cell_type": "code",
      "metadata": {
        "collapsed": true,
        "id": "CVbCGlluyWCy"
      },
      "source": [
        "flattened_params, unflat_func = flatten(params_list)"
      ],
      "execution_count": 40,
      "outputs": []
    },
    {
      "cell_type": "code",
      "metadata": {
        "collapsed": true,
        "id": "jcSd0WyryWCy"
      },
      "source": [
        "def loss_part(flattened_params):\n",
        "    '''make partial function. \n",
        "    Use this simple method because\n",
        "    autograd or scipy does not like functool.partial'''\n",
        "    \n",
        "    params_list = unflat_func(flattened_params) # recover\n",
        "    #print(flattened_params.shape)\n",
        "    #print(params_list)\n",
        "    # warning: global t and y0 are used\n",
        "    return loss_func(params_list, t, y0_list)"
      ],
      "execution_count": 41,
      "outputs": []
    },
    {
      "cell_type": "code",
      "metadata": {
        "colab": {
          "base_uri": "https://localhost:8080/"
        },
        "id": "lDy3AU7iyWCz",
        "outputId": "3e28148d-8f27-4860-a463-3bf3b11738f2"
      },
      "source": [
        "loss_part(flattened_params)\n",
        "#print(type(flattened_params))\n",
        "#print(type(unflat_func(flattened_params)))\n"
      ],
      "execution_count": 42,
      "outputs": [
        {
          "output_type": "execute_result",
          "data": {
            "text/plain": [
              "354154430.11735696"
            ]
          },
          "metadata": {
            "tags": []
          },
          "execution_count": 42
        }
      ]
    },
    {
      "cell_type": "code",
      "metadata": {
        "collapsed": true,
        "id": "aIwOwhrryWCz"
      },
      "source": [
        "loss_part_grad = grad(loss_part)"
      ],
      "execution_count": 43,
      "outputs": []
    },
    {
      "cell_type": "code",
      "metadata": {
        "colab": {
          "base_uri": "https://localhost:8080/"
        },
        "id": "9laA74KfyWCz",
        "outputId": "4109059c-196d-45a1-cdef-1d27f6a00b73"
      },
      "source": [
        "loss_part_grad(flattened_params).shape"
      ],
      "execution_count": 44,
      "outputs": [
        {
          "output_type": "execute_result",
          "data": {
            "text/plain": [
              "(62,)"
            ]
          },
          "metadata": {
            "tags": []
          },
          "execution_count": 44
        }
      ]
    },
    {
      "cell_type": "code",
      "metadata": {
        "colab": {
          "base_uri": "https://localhost:8080/"
        },
        "id": "g_k_eQrqyWC0",
        "outputId": "d2e057ca-5abb-477f-df65-4c8dc98bef4b"
      },
      "source": [
        "%%time\n",
        "count = 0\n",
        "def print_loss(x):\n",
        "    global count\n",
        "    if count %200 == 0:  \n",
        "        print(\"iteration:\", count, \"loss: \", loss_part(x))\n",
        "    count += 1\n",
        "        \n",
        "o = minimize(loss_part, x0=flattened_params, jac=loss_part_grad, \n",
        "             method=\"BFGS\", callback=print_loss, \n",
        "             options = {'gtol':0.05,'disp': True, 'maxiter': 2000})"
      ],
      "execution_count": 45,
      "outputs": [
        {
          "output_type": "stream",
          "text": [
            "iteration: 0 loss:  1906190.700672108\n",
            "iteration: 200 loss:  0.022184957791444478\n",
            "iteration: 400 loss:  0.005138412102136277\n",
            "iteration: 600 loss:  0.0015374353042429544\n",
            "iteration: 800 loss:  0.0004781481414612352\n",
            "iteration: 1000 loss:  0.00018942264323632547\n",
            "iteration: 1200 loss:  6.70820555940539e-05\n",
            "Optimization terminated successfully.\n",
            "         Current function value: 0.000015\n",
            "         Iterations: 1361\n",
            "         Function evaluations: 1578\n",
            "         Gradient evaluations: 1578\n",
            "CPU times: user 12 s, sys: 18 ms, total: 12 s\n",
            "Wall time: 12.1 s\n"
          ],
          "name": "stdout"
        }
      ]
    },
    {
      "cell_type": "code",
      "metadata": {
        "colab": {
          "base_uri": "https://localhost:8080/"
        },
        "id": "aqxi55_syWC0",
        "outputId": "1a24da3b-2713-424b-c827-11c3db0d8969"
      },
      "source": [
        "loss_part(o.x)"
      ],
      "execution_count": 46,
      "outputs": [
        {
          "output_type": "execute_result",
          "data": {
            "text/plain": [
              "1.4796402510568196e-05"
            ]
          },
          "metadata": {
            "tags": []
          },
          "execution_count": 46
        }
      ]
    },
    {
      "cell_type": "code",
      "metadata": {
        "colab": {
          "base_uri": "https://localhost:8080/"
        },
        "id": "0nr9Po0HyWC0",
        "outputId": "f519cc08-ef93-4a05-dc1b-3892589ce8fb"
      },
      "source": [
        "print(o.fun, o.njev, o.nfev, '\\n', o.message)"
      ],
      "execution_count": 47,
      "outputs": [
        {
          "output_type": "stream",
          "text": [
            "1.4796402510568196e-05 1578 1578 \n",
            " Optimization terminated successfully.\n"
          ],
          "name": "stdout"
        }
      ]
    },
    {
      "cell_type": "code",
      "metadata": {
        "collapsed": true,
        "id": "gNyh9ostyWC1"
      },
      "source": [
        "params1_opt, params2_opt = unflat_func(o.x)"
      ],
      "execution_count": 48,
      "outputs": []
    },
    {
      "cell_type": "code",
      "metadata": {
        "id": "EwhL_TFR6H7O"
      },
      "source": [
        "class RES:\n",
        "  def __init__(self,t):\n",
        "    self.t=t\n",
        "    self.y=[[],[]]\n",
        "    self.y[0]=[2*math.exp(-k) for k in t]\n",
        "    self.y[1]=[-math.exp(-k) for k in t]\n",
        "sol=RES(numpy.arange(0,5,5/12))\n"
      ],
      "execution_count": 49,
      "outputs": []
    },
    {
      "cell_type": "code",
      "metadata": {
        "colab": {
          "base_uri": "https://localhost:8080/",
          "height": 309
        },
        "id": "AGG-f4FfyWC1",
        "outputId": "fbcfa529-d977-4dc2-e50e-a47771ec80f4"
      },
      "source": [
        "plt.plot(sol.t, sol.y[0], label='Solution - y1')\n",
        "\n",
        "plt.plot(sol.t, sol.y[1], label='Solution - y2')\n",
        "\n",
        "plt.plot(t, predict(params1_opt, t, y0_list[0]), 'o', label='NN Solver - y1')\n",
        "plt.plot(t, predict(params2_opt, t, y0_list[1]), 'o', label='NN Solver - y2')\n",
        "\n",
        "plt.legend()\n",
        "plt.title('Neural Net Approximation of stiff ODE')\n",
        "plt.xlabel('Time')\n",
        "plt.savefig(\"stiff_ANN.png\", dpi=300)"
      ],
      "execution_count": 50,
      "outputs": [
        {
          "output_type": "display_data",
          "data": {
            "image/png": "[encoded data removed]",
            "text/plain": [
              "<Figure size 432x288 with 1 Axes>"
            ]
          },
          "metadata": {
            "tags": []
          }
        }
      ]
    },
    {
      "cell_type": "markdown",
      "metadata": {
        "id": "6AZXKpW27iib"
      },
      "source": [
        ""
      ]
    },
    {
      "cell_type": "code",
      "metadata": {
        "colab": {
          "base_uri": "https://localhost:8080/"
        },
        "collapsed": true,
        "id": "P-oIaLlWyWC2",
        "outputId": "49d3f709-ef37-40a2-ea54-829f6b16ca63"
      },
      "source": [
        "print(sol.t)\n",
        "print(sol.y[1])"
      ],
      "execution_count": 51,
      "outputs": [
        {
          "output_type": "stream",
          "text": [
            "[0.         0.41666667 0.83333333 1.25       1.66666667 2.08333333\n",
            " 2.5        2.91666667 3.33333333 3.75       4.16666667 4.58333333]\n",
            "[-1.0, -0.6592406302004438, -0.4345982085070782, -0.2865047968601901, -0.18887560283756183, -0.12451447144412296, -0.0820849986238988, -0.05411376622282158, -0.035673993347252395, -0.023517745856009107, -0.015503853599009314, -0.010220770217146315]\n"
          ],
          "name": "stdout"
        }
      ]
    },
    {
      "cell_type": "code",
      "metadata": {
        "colab": {
          "base_uri": "https://localhost:8080/",
          "height": 309
        },
        "id": "pBbgvNTayWC1",
        "outputId": "68194e22-2b69-4795-eae0-ce67c550adaa"
      },
      "source": [
        "dy=[[],[]]\n",
        "for i in range(len(sol.t)):\n",
        "  dy[0].append((f(sol.t,[sol.y[0][i],sol.y[1][i]])[0]))\n",
        "  dy[1].append((f(sol.t,[sol.y[0][i],sol.y[1][i]])[1]))\n",
        "\n",
        "plt.plot(sol.t, dy[0])\n",
        "plt.plot(t, predict_dt(params1_opt, t, y0_list[0]), 'o')\n",
        "\n",
        "plt.plot(sol.t, dy[1])\n",
        "plt.plot(t, predict_dt(params2_opt, t, y0_list[1]), 'o')\n",
        "\n",
        "plt.title('dy/dt')"
      ],
      "execution_count": 52,
      "outputs": [
        {
          "output_type": "execute_result",
          "data": {
            "text/plain": [
              "Text(0.5, 1.0, 'dy/dt')"
            ]
          },
          "metadata": {
            "tags": []
          },
          "execution_count": 52
        },
        {
          "output_type": "display_data",
          "data": {
            "image/png": "[encoded data removed]",
            "text/plain": [
              "<Figure size 432x288 with 1 Axes>"
            ]
          },
          "metadata": {
            "tags": []
          }
        }
      ]
    },
    {
      "cell_type": "code",
      "metadata": {
        "id": "imWHc4958GTq"
      },
      "source": [
        ""
      ],
      "execution_count": 52,
      "outputs": []
    }
  ]
}